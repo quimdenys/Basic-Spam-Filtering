{
 "cells": [
  {
   "cell_type": "code",
   "execution_count": 1,
   "metadata": {},
   "outputs": [],
   "source": [
    "import numpy as np\n",
    "import matplotlib.pyplot as plt\n",
    "import pandas as pd\n",
    "import string"
   ]
  },
  {
   "cell_type": "markdown",
   "metadata": {},
   "source": [
    "# Read Data"
   ]
  },
  {
   "cell_type": "code",
   "execution_count": 2,
   "metadata": {},
   "outputs": [],
   "source": [
    "#read dataset\n",
    "spam_df = pd.read_csv('spam.csv', encoding=\"ISO-8859-1\")\n",
    "\n",
    "#subset and rename columns\n",
    "spam_df = spam_df[['v1', 'v2']]\n",
    "spam_df.rename(columns={'v1': 'spam', 'v2': 'text'}, inplace=True)\n",
    "\n",
    "#convert spam column to binary\n",
    "spam_df.spam = spam_df.spam.apply(lambda s: True if s=='spam' else False)\n",
    "\n",
    "#lowercase everything and remove punctuation\n",
    "spam_df.text = spam_df.text.apply(lambda t: t.lower().translate(str.maketrans('', '', string.punctuation)))\n",
    "\n",
    "#shuffle\n",
    "spam_df = spam_df.sample(frac=1)"
   ]
  },
  {
   "cell_type": "code",
   "execution_count": 3,
   "metadata": {},
   "outputs": [
    {
     "data": {
      "text/html": [
       "<div>\n",
       "<style scoped>\n",
       "    .dataframe tbody tr th:only-of-type {\n",
       "        vertical-align: middle;\n",
       "    }\n",
       "\n",
       "    .dataframe tbody tr th {\n",
       "        vertical-align: top;\n",
       "    }\n",
       "\n",
       "    .dataframe thead th {\n",
       "        text-align: right;\n",
       "    }\n",
       "</style>\n",
       "<table border=\"1\" class=\"dataframe\">\n",
       "  <thead>\n",
       "    <tr style=\"text-align: right;\">\n",
       "      <th></th>\n",
       "      <th>spam</th>\n",
       "      <th>text</th>\n",
       "    </tr>\n",
       "  </thead>\n",
       "  <tbody>\n",
       "    <tr>\n",
       "      <th>3781</th>\n",
       "      <td>False</td>\n",
       "      <td>how r ì going to send it to me</td>\n",
       "    </tr>\n",
       "    <tr>\n",
       "      <th>3668</th>\n",
       "      <td>False</td>\n",
       "      <td>yeah imma come over cause jay wants to do some...</td>\n",
       "    </tr>\n",
       "    <tr>\n",
       "      <th>769</th>\n",
       "      <td>False</td>\n",
       "      <td>lol i know theyre so dramatic schools already ...</td>\n",
       "    </tr>\n",
       "    <tr>\n",
       "      <th>3814</th>\n",
       "      <td>False</td>\n",
       "      <td>not yet chikkuk then wat abt tht guy did he st...</td>\n",
       "    </tr>\n",
       "    <tr>\n",
       "      <th>3110</th>\n",
       "      <td>False</td>\n",
       "      <td>short but cute   be a good person</td>\n",
       "    </tr>\n",
       "    <tr>\n",
       "      <th>...</th>\n",
       "      <td>...</td>\n",
       "      <td>...</td>\n",
       "    </tr>\n",
       "    <tr>\n",
       "      <th>2827</th>\n",
       "      <td>False</td>\n",
       "      <td>wifehow she knew the time of murder exactly</td>\n",
       "    </tr>\n",
       "    <tr>\n",
       "      <th>3714</th>\n",
       "      <td>False</td>\n",
       "      <td>i am lateso call you tomorrow morningtake care...</td>\n",
       "    </tr>\n",
       "    <tr>\n",
       "      <th>1186</th>\n",
       "      <td>False</td>\n",
       "      <td>goodmorning today i am late for  ltgt min</td>\n",
       "    </tr>\n",
       "    <tr>\n",
       "      <th>2141</th>\n",
       "      <td>False</td>\n",
       "      <td>alright took the morphine back in yo</td>\n",
       "    </tr>\n",
       "    <tr>\n",
       "      <th>4088</th>\n",
       "      <td>False</td>\n",
       "      <td>how are you my love  are you with your brother...</td>\n",
       "    </tr>\n",
       "  </tbody>\n",
       "</table>\n",
       "<p>5572 rows × 2 columns</p>\n",
       "</div>"
      ],
      "text/plain": [
       "       spam                                               text\n",
       "3781  False                     how r ì going to send it to me\n",
       "3668  False  yeah imma come over cause jay wants to do some...\n",
       "769   False  lol i know theyre so dramatic schools already ...\n",
       "3814  False  not yet chikkuk then wat abt tht guy did he st...\n",
       "3110  False                 short but cute   be a good person \n",
       "...     ...                                                ...\n",
       "2827  False        wifehow she knew the time of murder exactly\n",
       "3714  False  i am lateso call you tomorrow morningtake care...\n",
       "1186  False          goodmorning today i am late for  ltgt min\n",
       "2141  False               alright took the morphine back in yo\n",
       "4088  False  how are you my love  are you with your brother...\n",
       "\n",
       "[5572 rows x 2 columns]"
      ]
     },
     "execution_count": 3,
     "metadata": {},
     "output_type": "execute_result"
    }
   ],
   "source": [
    "spam_df"
   ]
  },
  {
   "cell_type": "code",
   "execution_count": 4,
   "metadata": {},
   "outputs": [
    {
     "name": "stdout",
     "output_type": "stream",
     "text": [
      "do you want a new video handset 750 anytime any network mins half price line rental camcorder reply or call 08000930705 for delivery tomorrow\n",
      "-------\n",
      "yes the only place in town to meet exciting adult singles is now in the uk txt chat to 86688 now 150pmsg\n",
      "-------\n",
      "08714712388 between 10am7pm cost 10p\n",
      "-------\n",
      "urgent this is our 2nd attempt to contact u your å£900 prize from yesterday is still awaiting collection to claim call now 09061702893\n",
      "-------\n",
      "married local women looking for discreet action now 5 real matches instantly to your phone text match to 69969 msg cost 150p 2 stop txt stop bcmsfwc1n3xx\n",
      "-------\n"
     ]
    }
   ],
   "source": [
    "for t in spam_df[spam_df.spam == True].iloc[:5].text:\n",
    "    print(t)\n",
    "    print('-------')"
   ]
  },
  {
   "cell_type": "code",
   "execution_count": 5,
   "metadata": {},
   "outputs": [
    {
     "name": "stdout",
     "output_type": "stream",
     "text": [
      "how r ì going to send it to me\n",
      "-------\n",
      "yeah imma come over cause jay wants to do some drugs\n",
      "-------\n",
      "lol i know theyre so dramatic schools already closed for tomorrow apparently we cant drive in the inch of snow were supposed to get\n",
      "-------\n",
      "not yet chikkuk then wat abt tht guy did he stopped irritating or msging to u\n",
      "-------\n",
      "short but cute   be a good person \n",
      "-------\n"
     ]
    }
   ],
   "source": [
    "for t in spam_df[spam_df.spam == False].iloc[:5].text:\n",
    "    print(t)\n",
    "    print('-------')"
   ]
  },
  {
   "cell_type": "code",
   "execution_count": 6,
   "metadata": {},
   "outputs": [],
   "source": [
    "#get training set\n",
    "train_spam_df = spam_df.iloc[:int(len(spam_df)*0.7)]\n",
    "\n",
    "#get testing set\n",
    "test_spam_df = spam_df.iloc[int(len(spam_df)*0.7):]"
   ]
  },
  {
   "cell_type": "code",
   "execution_count": 7,
   "metadata": {},
   "outputs": [
    {
     "name": "stdout",
     "output_type": "stream",
     "text": [
      "0.13384615384615384\n"
     ]
    }
   ],
   "source": [
    "FRAC_SPAM_TEXTS = train_spam_df.spam.mean()\n",
    "print(FRAC_SPAM_TEXTS)"
   ]
  },
  {
   "cell_type": "markdown",
   "metadata": {},
   "source": [
    "# Create Spam Bag of Words and Non-Spam Bag of Words"
   ]
  },
  {
   "cell_type": "code",
   "execution_count": 29,
   "metadata": {},
   "outputs": [
    {
     "data": {
      "text/plain": [
       "12336"
      ]
     },
     "execution_count": 29,
     "metadata": {},
     "output_type": "execute_result"
    }
   ],
   "source": [
    "spam_text = ' '.join(train_spam_df[train_spam_df.spam == True].text).split(' ')\n",
    "len(spam_text)"
   ]
  },
  {
   "cell_type": "code",
   "execution_count": 30,
   "metadata": {},
   "outputs": [
    {
     "data": {
      "text/plain": [
       "837"
      ]
     },
     "execution_count": 30,
     "metadata": {},
     "output_type": "execute_result"
    }
   ],
   "source": [
    "#get all words from spam and non-spam datasets\n",
    "train_spam_words = ' '.join(train_spam_df[train_spam_df.spam == True].text).split(' ')\n",
    "train_non_spam_words = ' '.join(train_spam_df[train_spam_df.spam == False].text).split(' ')\n",
    "\n",
    "common_words = set(train_spam_words).intersection(set(train_non_spam_words))\n",
    "len(common_words)"
   ]
  },
  {
   "cell_type": "code",
   "execution_count": 31,
   "metadata": {},
   "outputs": [],
   "source": [
    "train_spam_bow = dict()\n",
    "for w in common_words:\n",
    "    train_spam_bow[w] = train_spam_words.count(w) / len(train_spam_words)"
   ]
  },
  {
   "cell_type": "code",
   "execution_count": 32,
   "metadata": {},
   "outputs": [],
   "source": [
    "train_non_spam_bow = dict()\n",
    "for w in common_words:\n",
    "    train_non_spam_bow[w] = train_non_spam_words.count(w) / len(train_non_spam_words)"
   ]
  },
  {
   "cell_type": "markdown",
   "metadata": {},
   "source": [
    "# Predict on Test Set"
   ]
  },
  {
   "cell_type": "markdown",
   "metadata": {},
   "source": [
    "# $ P(\\text{SPAM} | \\text{\"urgent please call this number\"}) $\n",
    "# $\\propto P(\\text{\"urgent please call this number\"} | \\text{SPAM}) \\times P(\\text{SPAM}) $\n",
    "# $= P(\\text{\"urgent\"} | \\text{SPAM}) \\times P(\\text{\"please\"} | \\text{SPAM}) \\times \\dots \\times P(\\text{SPAM})$"
   ]
  },
  {
   "cell_type": "markdown",
   "metadata": {},
   "source": [
    "# Due to numerical issues, equivalently  compute:\n",
    "\n",
    "# $log(P(\\text{\"urgent\"} | \\text{SPAM}) \\times P(\\text{\"please\"} | \\text{SPAM}) \\times \\dots \\times P(\\text{SPAM}))$\n",
    "# $ = log(P(\\text{\"urgent\"} | \\text{SPAM})) + log(P(\\text{\"please\"} | \\text{SPAM})) + \\dots + log(P(\\text{SPAM}))$"
   ]
  },
  {
   "cell_type": "code",
   "execution_count": 27,
   "metadata": {},
   "outputs": [],
   "source": [
    "def predict_text(t, verbose=False):\n",
    "    #if some word doesnt appear in either spam or non-spam BOW, disregard it\n",
    "    valid_words = [w for w in t if w in train_spam_bow]\n",
    "    \n",
    "    #get the probabilities of each valid word showing up in spam and non-spam BOW\n",
    "    spam_probs = [train_spam_bow[w] for w in valid_words]\n",
    "    non_spam_probs = [train_non_spam_bow[w] for w in valid_words]\n",
    "    \n",
    "    #print probs if requested\n",
    "    if verbose:\n",
    "        data_df = pd.DataFrame()\n",
    "        data_df['word'] = valid_words\n",
    "        data_df['spam_prob'] = spam_probs\n",
    "        data_df['non_spam_prob'] = non_spam_probs\n",
    "        data_df['ratio'] = [s/n if n > 0 else np.inf for s,n in zip(spam_probs, non_spam_probs)]\n",
    "        print(data_df)\n",
    "     \n",
    "    #calculate spam score as sum of logs for all probabilities\n",
    "    spam_score = sum([np.log(p) for p in spam_probs]) + np.log(FRAC_SPAM_TEXTS)\n",
    "    \n",
    "    #calculate non-spam score as sum of logs for all probabilities\n",
    "    non_spam_score = sum([np.log(p) for p in non_spam_probs]) + np.log(1-FRAC_SPAM_TEXTS)\n",
    "    \n",
    "    #if verbose, report the two scores\n",
    "    if verbose:\n",
    "        print('Spam Score: %s'%spam_score)\n",
    "        print('Non-Spam Score: %s'%non_spam_score)\n",
    "   \n",
    "    #if spam score is higher, mark this as spam\n",
    "    return (spam_score >= non_spam_score)"
   ]
  },
  {
   "cell_type": "code",
   "execution_count": 12,
   "metadata": {},
   "outputs": [
    {
     "name": "stdout",
     "output_type": "stream",
     "text": [
      "     word  spam_prob  non_spam_prob       ratio\n",
      "0  urgent   0.003879       0.000021  188.634600\n",
      "1    call   0.018929       0.003311    5.717620\n",
      "2    this   0.005275       0.003537    1.491529\n",
      "3  number   0.001629       0.001049    1.553461\n",
      "Spam Score: -23.16448028206801\n",
      "Non-Spam Score: -29.15569965721826\n"
     ]
    },
    {
     "data": {
      "text/plain": [
       "True"
      ]
     },
     "execution_count": 12,
     "metadata": {},
     "output_type": "execute_result"
    }
   ],
   "source": [
    "predict_text('urgent call this number'.split(), verbose=True)"
   ]
  },
  {
   "cell_type": "code",
   "execution_count": 13,
   "metadata": {},
   "outputs": [
    {
     "name": "stdout",
     "output_type": "stream",
     "text": [
      "      word  spam_prob  non_spam_prob     ratio\n",
      "0      hey   0.000310       0.001522  0.203929\n",
      "1       do   0.001241       0.005223  0.237650\n",
      "2      you   0.016447       0.025992  0.632762\n",
      "3     want   0.001474       0.002365  0.623314\n",
      "4       to   0.039488       0.022311  1.769862\n",
      "5       go   0.001474       0.003619  0.407279\n",
      "6        a   0.021567       0.014950  1.442653\n",
      "7    movie   0.000155       0.000288  0.538956\n",
      "8  tonight   0.000078       0.000864  0.089826\n",
      "Spam Score: -59.20117350818938\n",
      "Non-Spam Score: -50.42256289899204\n"
     ]
    },
    {
     "data": {
      "text/plain": [
       "False"
      ]
     },
     "execution_count": 13,
     "metadata": {},
     "output_type": "execute_result"
    }
   ],
   "source": [
    "predict_text('hey do you want to go a movie tonight'.split(), verbose=True)"
   ]
  },
  {
   "cell_type": "code",
   "execution_count": 14,
   "metadata": {},
   "outputs": [
    {
     "name": "stdout",
     "output_type": "stream",
     "text": [
      "        word  spam_prob  non_spam_prob      ratio\n",
      "0      offer   0.001552       0.000144  10.779120\n",
      "1        for   0.010939       0.007197   1.519856\n",
      "2  unlimited   0.000698       0.000062  11.318076\n",
      "3      money   0.000078       0.000802   0.096736\n",
      "4       call   0.018929       0.003311   5.717620\n",
      "5        now   0.010784       0.003989   2.703114\n",
      "Spam Score: -38.192756947863074\n",
      "Non-Spam Score: -41.98513617615185\n"
     ]
    },
    {
     "data": {
      "text/plain": [
       "True"
      ]
     },
     "execution_count": 14,
     "metadata": {},
     "output_type": "execute_result"
    }
   ],
   "source": [
    "predict_text('offer for unlimited money call now'.split(), verbose=True)"
   ]
  },
  {
   "cell_type": "code",
   "execution_count": 15,
   "metadata": {},
   "outputs": [
    {
     "name": "stdout",
     "output_type": "stream",
     "text": [
      "    word  spam_prob  non_spam_prob     ratio\n",
      "0    are   0.004422       0.006005  0.736450\n",
      "1    you   0.016447       0.025992  0.632762\n",
      "2     at   0.001396       0.005778  0.241667\n",
      "3  class   0.000155       0.000658  0.235793\n",
      "4    yet   0.000078       0.000576  0.134739\n",
      "Spam Score: -36.318752270659445\n",
      "Non-Spam Score: -28.85333457585457\n"
     ]
    },
    {
     "data": {
      "text/plain": [
       "False"
      ]
     },
     "execution_count": 15,
     "metadata": {},
     "output_type": "execute_result"
    }
   ],
   "source": [
    "predict_text('are you at class yet'.split(), verbose=True)"
   ]
  },
  {
   "cell_type": "code",
   "execution_count": 47,
   "metadata": {},
   "outputs": [
    {
     "data": {
      "text/html": [
       "<div>\n",
       "<style scoped>\n",
       "    .dataframe tbody tr th:only-of-type {\n",
       "        vertical-align: middle;\n",
       "    }\n",
       "\n",
       "    .dataframe tbody tr th {\n",
       "        vertical-align: top;\n",
       "    }\n",
       "\n",
       "    .dataframe thead th {\n",
       "        text-align: right;\n",
       "    }\n",
       "</style>\n",
       "<table border=\"1\" class=\"dataframe\">\n",
       "  <thead>\n",
       "    <tr style=\"text-align: right;\">\n",
       "      <th></th>\n",
       "      <th>spam</th>\n",
       "      <th>text</th>\n",
       "    </tr>\n",
       "  </thead>\n",
       "  <tbody>\n",
       "    <tr>\n",
       "      <th>1863</th>\n",
       "      <td>False</td>\n",
       "      <td>ill let you know when it kicks in</td>\n",
       "    </tr>\n",
       "    <tr>\n",
       "      <th>85</th>\n",
       "      <td>False</td>\n",
       "      <td>i call you later dont have network if urgnt sm...</td>\n",
       "    </tr>\n",
       "    <tr>\n",
       "      <th>4498</th>\n",
       "      <td>True</td>\n",
       "      <td>sms services for your inclusive text credits p...</td>\n",
       "    </tr>\n",
       "    <tr>\n",
       "      <th>4458</th>\n",
       "      <td>True</td>\n",
       "      <td>welcome to ukmobiledate this msg is free givin...</td>\n",
       "    </tr>\n",
       "    <tr>\n",
       "      <th>1639</th>\n",
       "      <td>True</td>\n",
       "      <td>freemsgfeelin kinda lnly hope u like 2 keep me...</td>\n",
       "    </tr>\n",
       "    <tr>\n",
       "      <th>...</th>\n",
       "      <td>...</td>\n",
       "      <td>...</td>\n",
       "    </tr>\n",
       "    <tr>\n",
       "      <th>2827</th>\n",
       "      <td>False</td>\n",
       "      <td>wifehow she knew the time of murder exactly</td>\n",
       "    </tr>\n",
       "    <tr>\n",
       "      <th>3714</th>\n",
       "      <td>False</td>\n",
       "      <td>i am lateso call you tomorrow morningtake care...</td>\n",
       "    </tr>\n",
       "    <tr>\n",
       "      <th>1186</th>\n",
       "      <td>False</td>\n",
       "      <td>goodmorning today i am late for  ltgt min</td>\n",
       "    </tr>\n",
       "    <tr>\n",
       "      <th>2141</th>\n",
       "      <td>False</td>\n",
       "      <td>alright took the morphine back in yo</td>\n",
       "    </tr>\n",
       "    <tr>\n",
       "      <th>4088</th>\n",
       "      <td>False</td>\n",
       "      <td>how are you my love  are you with your brother...</td>\n",
       "    </tr>\n",
       "  </tbody>\n",
       "</table>\n",
       "<p>1672 rows × 2 columns</p>\n",
       "</div>"
      ],
      "text/plain": [
       "       spam                                               text\n",
       "1863  False                  ill let you know when it kicks in\n",
       "85    False  i call you later dont have network if urgnt sm...\n",
       "4498   True  sms services for your inclusive text credits p...\n",
       "4458   True  welcome to ukmobiledate this msg is free givin...\n",
       "1639   True  freemsgfeelin kinda lnly hope u like 2 keep me...\n",
       "...     ...                                                ...\n",
       "2827  False        wifehow she knew the time of murder exactly\n",
       "3714  False  i am lateso call you tomorrow morningtake care...\n",
       "1186  False          goodmorning today i am late for  ltgt min\n",
       "2141  False               alright took the morphine back in yo\n",
       "4088  False  how are you my love  are you with your brother...\n",
       "\n",
       "[1672 rows x 2 columns]"
      ]
     },
     "execution_count": 47,
     "metadata": {},
     "output_type": "execute_result"
    }
   ],
   "source": [
    "test_spam_df"
   ]
  },
  {
   "cell_type": "code",
   "execution_count": 33,
   "metadata": {},
   "outputs": [
    {
     "data": {
      "text/plain": [
       "1863    False\n",
       "85      False\n",
       "4498     True\n",
       "4458     True\n",
       "1639    False\n",
       "        ...  \n",
       "2827    False\n",
       "3714    False\n",
       "1186    False\n",
       "2141    False\n",
       "4088    False\n",
       "Name: text, Length: 1672, dtype: bool"
      ]
     },
     "execution_count": 33,
     "metadata": {},
     "output_type": "execute_result"
    }
   ],
   "source": [
    "predictions = test_spam_df.text.apply(lambda t: predict_text(t.split()))\n",
    "predictions"
   ]
  },
  {
   "cell_type": "code",
   "execution_count": 40,
   "metadata": {},
   "outputs": [
    {
     "name": "stdout",
     "output_type": "stream",
     "text": [
      "Fraction Spam Correctly Detected: 0.8844444444444445\n"
     ]
    }
   ],
   "source": [
    "frac_spam_messages_correctly_detected = np.sum((predictions == True) & (test_spam_df.spam == True)) / np.sum(test_spam_df.spam == True)\n",
    "print('Fraction Spam Correctly Detected: %s'%frac_spam_messages_correctly_detected)"
   ]
  },
  {
   "cell_type": "code",
   "execution_count": 62,
   "metadata": {},
   "outputs": [
    {
     "data": {
      "text/plain": [
       "199"
      ]
     },
     "execution_count": 62,
     "metadata": {},
     "output_type": "execute_result"
    }
   ],
   "source": [
    "np.sum((predictions == True) & (test_spam_df.spam == True))"
   ]
  },
  {
   "cell_type": "code",
   "execution_count": 51,
   "metadata": {},
   "outputs": [
    {
     "data": {
      "text/plain": [
       "199"
      ]
     },
     "execution_count": 51,
     "metadata": {},
     "output_type": "execute_result"
    }
   ],
   "source": [
    "pred_true = (predictions == True)\n",
    "pred_true\n",
    "test_spam_true = (test_spam_df.spam == True)\n",
    "test_spam_true\n",
    "combined_pred_test = np.logical_and(pred_true, test_spam_true)\n",
    "np.sum(combined_pred_test)"
   ]
  },
  {
   "cell_type": "code",
   "execution_count": 56,
   "metadata": {},
   "outputs": [
    {
     "name": "stdout",
     "output_type": "stream",
     "text": [
      "Fraction Spam Correctly Detected: 0.8844444444444445\n"
     ]
    }
   ],
   "source": [
    "frac_spam_messages_correctly_detected_2 = np.sum(np.logical_and(predictions, test_spam_df.spam)) / np.sum(test_spam_df.spam == True)\n",
    "print('Fraction Spam Correctly Detected: %s'%frac_spam_messages_correctly_detected_2)"
   ]
  },
  {
   "cell_type": "code",
   "execution_count": 43,
   "metadata": {},
   "outputs": [
    {
     "data": {
      "text/plain": [
       "199"
      ]
     },
     "execution_count": 43,
     "metadata": {},
     "output_type": "execute_result"
    }
   ],
   "source": [
    "temp = np.sum((predictions == True) & (test_spam_df.spam == True))\n",
    "temp"
   ]
  },
  {
   "cell_type": "code",
   "execution_count": 45,
   "metadata": {},
   "outputs": [
    {
     "data": {
      "text/plain": [
       "234"
      ]
     },
     "execution_count": 45,
     "metadata": {},
     "output_type": "execute_result"
    }
   ],
   "source": [
    "np.sum(predictions == True)"
   ]
  },
  {
   "cell_type": "code",
   "execution_count": 46,
   "metadata": {},
   "outputs": [
    {
     "data": {
      "text/plain": [
       "225"
      ]
     },
     "execution_count": 46,
     "metadata": {},
     "output_type": "execute_result"
    }
   ],
   "source": [
    "np.sum(test_spam_df.spam == True)"
   ]
  },
  {
   "cell_type": "code",
   "execution_count": 18,
   "metadata": {},
   "outputs": [
    {
     "name": "stdout",
     "output_type": "stream",
     "text": [
      "Fraction Valid Messages Sent to Spam: 0.02323991797676008\n"
     ]
    }
   ],
   "source": [
    "frac_valid_sent_to_spam = np.sum((predictions == True) & (test_spam_df.spam == False)) / np.sum(test_spam_df.spam == False)\n",
    "print('Fraction Valid Messages Sent to Spam: %s'%frac_valid_sent_to_spam)"
   ]
  },
  {
   "cell_type": "code",
   "execution_count": 59,
   "metadata": {},
   "outputs": [
    {
     "data": {
      "text/plain": [
       "1863    False\n",
       "85      False\n",
       "4498     True\n",
       "4458     True\n",
       "1639     True\n",
       "        ...  \n",
       "2827    False\n",
       "3714    False\n",
       "1186    False\n",
       "2141    False\n",
       "4088    False\n",
       "Name: spam, Length: 1672, dtype: bool"
      ]
     },
     "execution_count": 59,
     "metadata": {},
     "output_type": "execute_result"
    }
   ],
   "source": [
    "test_spam_df.spam"
   ]
  },
  {
   "cell_type": "code",
   "execution_count": 60,
   "metadata": {},
   "outputs": [
    {
     "data": {
      "text/plain": [
       "1863     True\n",
       "85       True\n",
       "4498    False\n",
       "4458    False\n",
       "1639    False\n",
       "        ...  \n",
       "2827     True\n",
       "3714     True\n",
       "1186     True\n",
       "2141     True\n",
       "4088     True\n",
       "Name: spam, Length: 1672, dtype: bool"
      ]
     },
     "execution_count": 60,
     "metadata": {},
     "output_type": "execute_result"
    }
   ],
   "source": [
    "(test_spam_df.spam == False)"
   ]
  },
  {
   "cell_type": "code",
   "execution_count": 58,
   "metadata": {},
   "outputs": [
    {
     "data": {
      "text/html": [
       "<div>\n",
       "<style scoped>\n",
       "    .dataframe tbody tr th:only-of-type {\n",
       "        vertical-align: middle;\n",
       "    }\n",
       "\n",
       "    .dataframe tbody tr th {\n",
       "        vertical-align: top;\n",
       "    }\n",
       "\n",
       "    .dataframe thead th {\n",
       "        text-align: right;\n",
       "    }\n",
       "</style>\n",
       "<table border=\"1\" class=\"dataframe\">\n",
       "  <thead>\n",
       "    <tr style=\"text-align: right;\">\n",
       "      <th></th>\n",
       "      <th>pred_true</th>\n",
       "      <th>test_spam_false</th>\n",
       "      <th>and_result</th>\n",
       "    </tr>\n",
       "  </thead>\n",
       "  <tbody>\n",
       "    <tr>\n",
       "      <th>1863</th>\n",
       "      <td>False</td>\n",
       "      <td>True</td>\n",
       "      <td>False</td>\n",
       "    </tr>\n",
       "    <tr>\n",
       "      <th>85</th>\n",
       "      <td>False</td>\n",
       "      <td>True</td>\n",
       "      <td>False</td>\n",
       "    </tr>\n",
       "    <tr>\n",
       "      <th>4498</th>\n",
       "      <td>True</td>\n",
       "      <td>False</td>\n",
       "      <td>False</td>\n",
       "    </tr>\n",
       "    <tr>\n",
       "      <th>4458</th>\n",
       "      <td>True</td>\n",
       "      <td>False</td>\n",
       "      <td>False</td>\n",
       "    </tr>\n",
       "    <tr>\n",
       "      <th>1639</th>\n",
       "      <td>False</td>\n",
       "      <td>False</td>\n",
       "      <td>False</td>\n",
       "    </tr>\n",
       "    <tr>\n",
       "      <th>3021</th>\n",
       "      <td>False</td>\n",
       "      <td>True</td>\n",
       "      <td>False</td>\n",
       "    </tr>\n",
       "    <tr>\n",
       "      <th>4436</th>\n",
       "      <td>False</td>\n",
       "      <td>True</td>\n",
       "      <td>False</td>\n",
       "    </tr>\n",
       "    <tr>\n",
       "      <th>3734</th>\n",
       "      <td>False</td>\n",
       "      <td>True</td>\n",
       "      <td>False</td>\n",
       "    </tr>\n",
       "    <tr>\n",
       "      <th>5519</th>\n",
       "      <td>False</td>\n",
       "      <td>True</td>\n",
       "      <td>False</td>\n",
       "    </tr>\n",
       "    <tr>\n",
       "      <th>1954</th>\n",
       "      <td>False</td>\n",
       "      <td>True</td>\n",
       "      <td>False</td>\n",
       "    </tr>\n",
       "  </tbody>\n",
       "</table>\n",
       "</div>"
      ],
      "text/plain": [
       "      pred_true  test_spam_false  and_result\n",
       "1863      False             True       False\n",
       "85        False             True       False\n",
       "4498       True            False       False\n",
       "4458       True            False       False\n",
       "1639      False            False       False\n",
       "3021      False             True       False\n",
       "4436      False             True       False\n",
       "3734      False             True       False\n",
       "5519      False             True       False\n",
       "1954      False             True       False"
      ]
     },
     "execution_count": 58,
     "metadata": {},
     "output_type": "execute_result"
    }
   ],
   "source": [
    "pred_true = (predictions == True)\n",
    "\n",
    "test_spam_false = (test_spam_df.spam == False)\n",
    "combined_pred_test_2 = np.logical_and(pred_true, test_spam_false)\n",
    "qbools = pd.DataFrame()\n",
    "qbools['pred_true'] = pred_true\n",
    "qbools['test_spam_false'] = test_spam_false\n",
    "qbools['and_result'] = combined_pred_test_2\n",
    "qbools.head(10)\n",
    "\n"
   ]
  },
  {
   "cell_type": "code",
   "execution_count": null,
   "metadata": {},
   "outputs": [],
   "source": [
    "frac_valid_sent_to_spam_2 = np.sum(np.logical_and(predictions, test_spam_df.spam)) "
   ]
  },
  {
   "cell_type": "code",
   "execution_count": null,
   "metadata": {},
   "outputs": [],
   "source": []
  }
 ],
 "metadata": {
  "kernelspec": {
   "display_name": "Python 3 (ipykernel)",
   "language": "python",
   "name": "python3"
  },
  "language_info": {
   "codemirror_mode": {
    "name": "ipython",
    "version": 3
   },
   "file_extension": ".py",
   "mimetype": "text/x-python",
   "name": "python",
   "nbconvert_exporter": "python",
   "pygments_lexer": "ipython3",
   "version": "3.8.12"
  },
  "toc": {
   "base_numbering": 1,
   "nav_menu": {},
   "number_sections": true,
   "sideBar": true,
   "skip_h1_title": false,
   "title_cell": "Table of Contents",
   "title_sidebar": "Contents",
   "toc_cell": false,
   "toc_position": {},
   "toc_section_display": true,
   "toc_window_display": false
  }
 },
 "nbformat": 4,
 "nbformat_minor": 4
}
